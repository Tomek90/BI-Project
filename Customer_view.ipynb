{
 "cells": [
  {
   "cell_type": "markdown",
   "metadata": {},
   "source": [
    "# Analiza klientów\n",
    "Załadowanie biblioteki"
   ]
  },
  {
   "cell_type": "code",
   "execution_count": 1,
   "metadata": {},
   "outputs": [],
   "source": [
    "import pandas as pd\n",
    "import matplotlib.pyplot as plt\n",
    "import pyodbc"
   ]
  },
  {
   "cell_type": "markdown",
   "metadata": {},
   "source": [
    "# Połączenie z bazą SQL"
   ]
  },
  {
   "cell_type": "code",
   "execution_count": 2,
   "metadata": {},
   "outputs": [],
   "source": [
    "conn = pyodbc.connect ('DRIVER={SQL Server};SERVER=WIN-KNV22QSAF5I\\PRACA_DYPLOMOWA;DATABASE=AdventureWorks2017;Trusted_Connection=yes;')"
   ]
  },
  {
   "cell_type": "markdown",
   "metadata": {},
   "source": [
    "# Załadowanie danych"
   ]
  },
  {
   "cell_type": "code",
   "execution_count": 3,
   "metadata": {},
   "outputs": [
    {
     "name": "stdout",
     "output_type": "stream",
     "text": [
      "   CustomerID        CustomerName PersonType   StoreID  \\\n",
      "0       29825  Hendergart,  James         SC $1,046.00   \n",
      "1       29672  Collins, J. Takiko         SC   $722.00   \n",
      "2       29734     Elson, E. Jauna         SC   $852.00   \n",
      "3       29994  McGuigan, M. Robin         SC $1,418.00   \n",
      "4       29565    Bischoff,  Jimmy         SC   $484.00   \n",
      "\n",
      "                         StoreName        Country  SalesOrderID  OrderDate  \\\n",
      "0                 Better Bike Shop  United States         43659 2011-05-31   \n",
      "1                 Pedals Warehouse  United States         43660 2011-05-31   \n",
      "2  Original Bicycle Supply Company         Canada         43661 2011-05-31   \n",
      "3              Health Spa, Limited         Canada         43662 2011-05-31   \n",
      "4        World Bike Discount Store  United States         43663 2011-05-31   \n",
      "\n",
      "     DueDate   ShipDate SalesOrderNumber PurchaseOrderNumber   AccountNumber  \\\n",
      "0 2011-06-12 2011-06-07          SO43659         PO522145787  10-4020-000676   \n",
      "1 2011-06-12 2011-06-07          SO43660       PO18850127500  10-4020-000117   \n",
      "2 2011-06-12 2011-06-07          SO43661       PO18473189620  10-4020-000442   \n",
      "3 2011-06-12 2011-06-07          SO43662       PO18444174044  10-4020-000227   \n",
      "4 2011-06-12 2011-06-07          SO43663       PO18009186470  10-4020-000510   \n",
      "\n",
      "    SubTotal    TaxAmt  Freight   TotalDue  \n",
      "0 $20,565.62 $1,971.51  $616.10 $23,153.23  \n",
      "1  $1,294.25   $124.25   $38.83  $1,457.33  \n",
      "2 $32,726.48 $3,153.77  $985.55 $36,865.80  \n",
      "3 $28,832.53 $2,775.16  $867.24 $32,474.93  \n",
      "4    $419.46    $40.27   $12.58    $472.31  \n"
     ]
    },
    {
     "data": {
      "text/html": [
       "<div>\n",
       "<style scoped>\n",
       "    .dataframe tbody tr th:only-of-type {\n",
       "        vertical-align: middle;\n",
       "    }\n",
       "\n",
       "    .dataframe tbody tr th {\n",
       "        vertical-align: top;\n",
       "    }\n",
       "\n",
       "    .dataframe thead th {\n",
       "        text-align: right;\n",
       "    }\n",
       "</style>\n",
       "<table border=\"1\" class=\"dataframe\">\n",
       "  <thead>\n",
       "    <tr style=\"text-align: right;\">\n",
       "      <th></th>\n",
       "      <th>CustomerID</th>\n",
       "      <th>CustomerName</th>\n",
       "      <th>PersonType</th>\n",
       "      <th>StoreID</th>\n",
       "      <th>StoreName</th>\n",
       "      <th>Country</th>\n",
       "      <th>SalesOrderID</th>\n",
       "      <th>OrderDate</th>\n",
       "      <th>DueDate</th>\n",
       "      <th>ShipDate</th>\n",
       "      <th>SalesOrderNumber</th>\n",
       "      <th>PurchaseOrderNumber</th>\n",
       "      <th>AccountNumber</th>\n",
       "      <th>SubTotal</th>\n",
       "      <th>TaxAmt</th>\n",
       "      <th>Freight</th>\n",
       "      <th>TotalDue</th>\n",
       "    </tr>\n",
       "  </thead>\n",
       "  <tbody>\n",
       "    <tr>\n",
       "      <th>0</th>\n",
       "      <td>29825</td>\n",
       "      <td>Hendergart,  James</td>\n",
       "      <td>SC</td>\n",
       "      <td>$1,046.00</td>\n",
       "      <td>Better Bike Shop</td>\n",
       "      <td>United States</td>\n",
       "      <td>43659</td>\n",
       "      <td>2011-05-31</td>\n",
       "      <td>2011-06-12</td>\n",
       "      <td>2011-06-07</td>\n",
       "      <td>SO43659</td>\n",
       "      <td>PO522145787</td>\n",
       "      <td>10-4020-000676</td>\n",
       "      <td>$20,565.62</td>\n",
       "      <td>$1,971.51</td>\n",
       "      <td>$616.10</td>\n",
       "      <td>$23,153.23</td>\n",
       "    </tr>\n",
       "    <tr>\n",
       "      <th>1</th>\n",
       "      <td>29672</td>\n",
       "      <td>Collins, J. Takiko</td>\n",
       "      <td>SC</td>\n",
       "      <td>$722.00</td>\n",
       "      <td>Pedals Warehouse</td>\n",
       "      <td>United States</td>\n",
       "      <td>43660</td>\n",
       "      <td>2011-05-31</td>\n",
       "      <td>2011-06-12</td>\n",
       "      <td>2011-06-07</td>\n",
       "      <td>SO43660</td>\n",
       "      <td>PO18850127500</td>\n",
       "      <td>10-4020-000117</td>\n",
       "      <td>$1,294.25</td>\n",
       "      <td>$124.25</td>\n",
       "      <td>$38.83</td>\n",
       "      <td>$1,457.33</td>\n",
       "    </tr>\n",
       "    <tr>\n",
       "      <th>2</th>\n",
       "      <td>29734</td>\n",
       "      <td>Elson, E. Jauna</td>\n",
       "      <td>SC</td>\n",
       "      <td>$852.00</td>\n",
       "      <td>Original Bicycle Supply Company</td>\n",
       "      <td>Canada</td>\n",
       "      <td>43661</td>\n",
       "      <td>2011-05-31</td>\n",
       "      <td>2011-06-12</td>\n",
       "      <td>2011-06-07</td>\n",
       "      <td>SO43661</td>\n",
       "      <td>PO18473189620</td>\n",
       "      <td>10-4020-000442</td>\n",
       "      <td>$32,726.48</td>\n",
       "      <td>$3,153.77</td>\n",
       "      <td>$985.55</td>\n",
       "      <td>$36,865.80</td>\n",
       "    </tr>\n",
       "    <tr>\n",
       "      <th>3</th>\n",
       "      <td>29994</td>\n",
       "      <td>McGuigan, M. Robin</td>\n",
       "      <td>SC</td>\n",
       "      <td>$1,418.00</td>\n",
       "      <td>Health Spa, Limited</td>\n",
       "      <td>Canada</td>\n",
       "      <td>43662</td>\n",
       "      <td>2011-05-31</td>\n",
       "      <td>2011-06-12</td>\n",
       "      <td>2011-06-07</td>\n",
       "      <td>SO43662</td>\n",
       "      <td>PO18444174044</td>\n",
       "      <td>10-4020-000227</td>\n",
       "      <td>$28,832.53</td>\n",
       "      <td>$2,775.16</td>\n",
       "      <td>$867.24</td>\n",
       "      <td>$32,474.93</td>\n",
       "    </tr>\n",
       "    <tr>\n",
       "      <th>4</th>\n",
       "      <td>29565</td>\n",
       "      <td>Bischoff,  Jimmy</td>\n",
       "      <td>SC</td>\n",
       "      <td>$484.00</td>\n",
       "      <td>World Bike Discount Store</td>\n",
       "      <td>United States</td>\n",
       "      <td>43663</td>\n",
       "      <td>2011-05-31</td>\n",
       "      <td>2011-06-12</td>\n",
       "      <td>2011-06-07</td>\n",
       "      <td>SO43663</td>\n",
       "      <td>PO18009186470</td>\n",
       "      <td>10-4020-000510</td>\n",
       "      <td>$419.46</td>\n",
       "      <td>$40.27</td>\n",
       "      <td>$12.58</td>\n",
       "      <td>$472.31</td>\n",
       "    </tr>\n",
       "  </tbody>\n",
       "</table>\n",
       "</div>"
      ],
      "text/plain": [
       "   CustomerID        CustomerName PersonType   StoreID  \\\n",
       "0       29825  Hendergart,  James         SC $1,046.00   \n",
       "1       29672  Collins, J. Takiko         SC   $722.00   \n",
       "2       29734     Elson, E. Jauna         SC   $852.00   \n",
       "3       29994  McGuigan, M. Robin         SC $1,418.00   \n",
       "4       29565    Bischoff,  Jimmy         SC   $484.00   \n",
       "\n",
       "                         StoreName        Country  SalesOrderID  OrderDate  \\\n",
       "0                 Better Bike Shop  United States         43659 2011-05-31   \n",
       "1                 Pedals Warehouse  United States         43660 2011-05-31   \n",
       "2  Original Bicycle Supply Company         Canada         43661 2011-05-31   \n",
       "3              Health Spa, Limited         Canada         43662 2011-05-31   \n",
       "4        World Bike Discount Store  United States         43663 2011-05-31   \n",
       "\n",
       "     DueDate   ShipDate SalesOrderNumber PurchaseOrderNumber   AccountNumber  \\\n",
       "0 2011-06-12 2011-06-07          SO43659         PO522145787  10-4020-000676   \n",
       "1 2011-06-12 2011-06-07          SO43660       PO18850127500  10-4020-000117   \n",
       "2 2011-06-12 2011-06-07          SO43661       PO18473189620  10-4020-000442   \n",
       "3 2011-06-12 2011-06-07          SO43662       PO18444174044  10-4020-000227   \n",
       "4 2011-06-12 2011-06-07          SO43663       PO18009186470  10-4020-000510   \n",
       "\n",
       "    SubTotal    TaxAmt  Freight   TotalDue  \n",
       "0 $20,565.62 $1,971.51  $616.10 $23,153.23  \n",
       "1  $1,294.25   $124.25   $38.83  $1,457.33  \n",
       "2 $32,726.48 $3,153.77  $985.55 $36,865.80  \n",
       "3 $28,832.53 $2,775.16  $867.24 $32,474.93  \n",
       "4    $419.46    $40.27   $12.58    $472.31  "
      ]
     },
     "execution_count": 3,
     "metadata": {},
     "output_type": "execute_result"
    }
   ],
   "source": [
    "query = \"SELECT * FROM CustomerView\"\n",
    "\n",
    "df = pd.read_sql(query, conn)\n",
    "pd.options.display.float_format = '${:,.2f}'.format\n",
    "print(df.head())\n",
    "df.head()"
   ]
  },
  {
   "cell_type": "markdown",
   "metadata": {},
   "source": [
    "# Statystyki podstawowe"
   ]
  },
  {
   "cell_type": "code",
   "execution_count": 4,
   "metadata": {},
   "outputs": [
    {
     "data": {
      "text/html": [
       "<div>\n",
       "<style scoped>\n",
       "    .dataframe tbody tr th:only-of-type {\n",
       "        vertical-align: middle;\n",
       "    }\n",
       "\n",
       "    .dataframe tbody tr th {\n",
       "        vertical-align: top;\n",
       "    }\n",
       "\n",
       "    .dataframe thead th {\n",
       "        text-align: right;\n",
       "    }\n",
       "</style>\n",
       "<table border=\"1\" class=\"dataframe\">\n",
       "  <thead>\n",
       "    <tr style=\"text-align: right;\">\n",
       "      <th></th>\n",
       "      <th>SubTotal</th>\n",
       "      <th>TaxAmt</th>\n",
       "      <th>Freight</th>\n",
       "      <th>TotalDue</th>\n",
       "    </tr>\n",
       "  </thead>\n",
       "  <tbody>\n",
       "    <tr>\n",
       "      <th>count</th>\n",
       "      <td>$31,465.00</td>\n",
       "      <td>$31,465.00</td>\n",
       "      <td>$31,465.00</td>\n",
       "      <td>$31,465.00</td>\n",
       "    </tr>\n",
       "    <tr>\n",
       "      <th>mean</th>\n",
       "      <td>$3,491.07</td>\n",
       "      <td>$323.76</td>\n",
       "      <td>$101.17</td>\n",
       "      <td>$3,916.00</td>\n",
       "    </tr>\n",
       "    <tr>\n",
       "      <th>std</th>\n",
       "      <td>$11,093.45</td>\n",
       "      <td>$1,085.05</td>\n",
       "      <td>$339.08</td>\n",
       "      <td>$12,515.46</td>\n",
       "    </tr>\n",
       "    <tr>\n",
       "      <th>min</th>\n",
       "      <td>$1.37</td>\n",
       "      <td>$0.11</td>\n",
       "      <td>$0.03</td>\n",
       "      <td>$1.52</td>\n",
       "    </tr>\n",
       "    <tr>\n",
       "      <th>25%</th>\n",
       "      <td>$56.97</td>\n",
       "      <td>$4.56</td>\n",
       "      <td>$1.42</td>\n",
       "      <td>$62.95</td>\n",
       "    </tr>\n",
       "    <tr>\n",
       "      <th>50%</th>\n",
       "      <td>$782.99</td>\n",
       "      <td>$62.64</td>\n",
       "      <td>$19.57</td>\n",
       "      <td>$865.20</td>\n",
       "    </tr>\n",
       "    <tr>\n",
       "      <th>75%</th>\n",
       "      <td>$2,366.96</td>\n",
       "      <td>$189.60</td>\n",
       "      <td>$59.25</td>\n",
       "      <td>$2,615.49</td>\n",
       "    </tr>\n",
       "    <tr>\n",
       "      <th>max</th>\n",
       "      <td>$163,930.39</td>\n",
       "      <td>$17,948.52</td>\n",
       "      <td>$5,608.91</td>\n",
       "      <td>$187,487.83</td>\n",
       "    </tr>\n",
       "  </tbody>\n",
       "</table>\n",
       "</div>"
      ],
      "text/plain": [
       "         SubTotal     TaxAmt    Freight    TotalDue\n",
       "count  $31,465.00 $31,465.00 $31,465.00  $31,465.00\n",
       "mean    $3,491.07    $323.76    $101.17   $3,916.00\n",
       "std    $11,093.45  $1,085.05    $339.08  $12,515.46\n",
       "min         $1.37      $0.11      $0.03       $1.52\n",
       "25%        $56.97      $4.56      $1.42      $62.95\n",
       "50%       $782.99     $62.64     $19.57     $865.20\n",
       "75%     $2,366.96    $189.60     $59.25   $2,615.49\n",
       "max   $163,930.39 $17,948.52  $5,608.91 $187,487.83"
      ]
     },
     "execution_count": 4,
     "metadata": {},
     "output_type": "execute_result"
    }
   ],
   "source": [
    "df['YMD'] = pd.to_datetime(df.OrderDate)\n",
    "describe_df = df.filter(['SubTotal', 'TaxAmt', 'Freight', 'TotalDue'])\n",
    "describe_df.describe()"
   ]
  },
  {
   "cell_type": "markdown",
   "metadata": {},
   "source": [
    "# Statystyki w podziale na grupy"
   ]
  },
  {
   "cell_type": "code",
   "execution_count": 5,
   "metadata": {},
   "outputs": [
    {
     "data": {
      "text/html": [
       "<div>\n",
       "<style scoped>\n",
       "    .dataframe tbody tr th:only-of-type {\n",
       "        vertical-align: middle;\n",
       "    }\n",
       "\n",
       "    .dataframe tbody tr th {\n",
       "        vertical-align: top;\n",
       "    }\n",
       "\n",
       "    .dataframe thead th {\n",
       "        text-align: right;\n",
       "    }\n",
       "</style>\n",
       "<table border=\"1\" class=\"dataframe\">\n",
       "  <thead>\n",
       "    <tr style=\"text-align: right;\">\n",
       "      <th></th>\n",
       "      <th>TotalDue</th>\n",
       "    </tr>\n",
       "    <tr>\n",
       "      <th>Year</th>\n",
       "      <th></th>\n",
       "    </tr>\n",
       "  </thead>\n",
       "  <tbody>\n",
       "    <tr>\n",
       "      <th>2011</th>\n",
       "      <td>$8,808.77</td>\n",
       "    </tr>\n",
       "    <tr>\n",
       "      <th>2012</th>\n",
       "      <td>$9,623.42</td>\n",
       "    </tr>\n",
       "    <tr>\n",
       "      <th>2013</th>\n",
       "      <td>$3,452.68</td>\n",
       "    </tr>\n",
       "    <tr>\n",
       "      <th>2014</th>\n",
       "      <td>$1,906.26</td>\n",
       "    </tr>\n",
       "  </tbody>\n",
       "</table>\n",
       "</div>"
      ],
      "text/plain": [
       "      TotalDue\n",
       "Year          \n",
       "2011 $8,808.77\n",
       "2012 $9,623.42\n",
       "2013 $3,452.68\n",
       "2014 $1,906.26"
      ]
     },
     "execution_count": 5,
     "metadata": {},
     "output_type": "execute_result"
    }
   ],
   "source": [
    "df['Year'] = df['YMD'].dt.strftime('%Y')\n",
    "year_mean = df.filter(['Year', 'TotalDue']).groupby('Year').mean()\n",
    "year_mean"
   ]
  },
  {
   "cell_type": "code",
   "execution_count": 6,
   "metadata": {},
   "outputs": [
    {
     "data": {
      "text/html": [
       "<div>\n",
       "<style scoped>\n",
       "    .dataframe tbody tr th:only-of-type {\n",
       "        vertical-align: middle;\n",
       "    }\n",
       "\n",
       "    .dataframe tbody tr th {\n",
       "        vertical-align: top;\n",
       "    }\n",
       "\n",
       "    .dataframe thead th {\n",
       "        text-align: right;\n",
       "    }\n",
       "</style>\n",
       "<table border=\"1\" class=\"dataframe\">\n",
       "  <thead>\n",
       "    <tr style=\"text-align: right;\">\n",
       "      <th></th>\n",
       "      <th>TotalDue</th>\n",
       "    </tr>\n",
       "    <tr>\n",
       "      <th>Year</th>\n",
       "      <th></th>\n",
       "    </tr>\n",
       "  </thead>\n",
       "  <tbody>\n",
       "    <tr>\n",
       "      <th>2011</th>\n",
       "      <td>$14,155,699.52</td>\n",
       "    </tr>\n",
       "    <tr>\n",
       "      <th>2012</th>\n",
       "      <td>$37,675,700.31</td>\n",
       "    </tr>\n",
       "    <tr>\n",
       "      <th>2013</th>\n",
       "      <td>$48,965,887.96</td>\n",
       "    </tr>\n",
       "    <tr>\n",
       "      <th>2014</th>\n",
       "      <td>$22,419,498.32</td>\n",
       "    </tr>\n",
       "  </tbody>\n",
       "</table>\n",
       "</div>"
      ],
      "text/plain": [
       "           TotalDue\n",
       "Year               \n",
       "2011 $14,155,699.52\n",
       "2012 $37,675,700.31\n",
       "2013 $48,965,887.96\n",
       "2014 $22,419,498.32"
      ]
     },
     "execution_count": 6,
     "metadata": {},
     "output_type": "execute_result"
    }
   ],
   "source": [
    "year_sum = df.filter(['Year', 'TotalDue']).groupby('Year').sum()\n",
    "year_sum"
   ]
  },
  {
   "cell_type": "code",
   "execution_count": 7,
   "metadata": {},
   "outputs": [
    {
     "data": {
      "text/html": [
       "<div>\n",
       "<style scoped>\n",
       "    .dataframe tbody tr th:only-of-type {\n",
       "        vertical-align: middle;\n",
       "    }\n",
       "\n",
       "    .dataframe tbody tr th {\n",
       "        vertical-align: top;\n",
       "    }\n",
       "\n",
       "    .dataframe thead th {\n",
       "        text-align: right;\n",
       "    }\n",
       "</style>\n",
       "<table border=\"1\" class=\"dataframe\">\n",
       "  <thead>\n",
       "    <tr style=\"text-align: right;\">\n",
       "      <th></th>\n",
       "      <th>TotalDue_sum</th>\n",
       "      <th>TotalDue_mean</th>\n",
       "    </tr>\n",
       "    <tr>\n",
       "      <th>Year</th>\n",
       "      <th></th>\n",
       "      <th></th>\n",
       "    </tr>\n",
       "  </thead>\n",
       "  <tbody>\n",
       "    <tr>\n",
       "      <th>2011</th>\n",
       "      <td>$14,155,699.52</td>\n",
       "      <td>$8,808.77</td>\n",
       "    </tr>\n",
       "    <tr>\n",
       "      <th>2012</th>\n",
       "      <td>$37,675,700.31</td>\n",
       "      <td>$9,623.42</td>\n",
       "    </tr>\n",
       "    <tr>\n",
       "      <th>2013</th>\n",
       "      <td>$48,965,887.96</td>\n",
       "      <td>$3,452.68</td>\n",
       "    </tr>\n",
       "    <tr>\n",
       "      <th>2014</th>\n",
       "      <td>$22,419,498.32</td>\n",
       "      <td>$1,906.26</td>\n",
       "    </tr>\n",
       "  </tbody>\n",
       "</table>\n",
       "</div>"
      ],
      "text/plain": [
       "       TotalDue_sum  TotalDue_mean\n",
       "Year                              \n",
       "2011 $14,155,699.52      $8,808.77\n",
       "2012 $37,675,700.31      $9,623.42\n",
       "2013 $48,965,887.96      $3,452.68\n",
       "2014 $22,419,498.32      $1,906.26"
      ]
     },
     "execution_count": 7,
     "metadata": {},
     "output_type": "execute_result"
    }
   ],
   "source": [
    "summary_yearly = year_sum.merge(year_mean, how = 'inner', on = 'Year', suffixes = ('_sum', '_mean') )\n",
    "summary_yearly"
   ]
  },
  {
   "cell_type": "code",
   "execution_count": 8,
   "metadata": {},
   "outputs": [
    {
     "data": {
      "text/html": [
       "<div>\n",
       "<style scoped>\n",
       "    .dataframe tbody tr th:only-of-type {\n",
       "        vertical-align: middle;\n",
       "    }\n",
       "\n",
       "    .dataframe tbody tr th {\n",
       "        vertical-align: top;\n",
       "    }\n",
       "\n",
       "    .dataframe thead th {\n",
       "        text-align: right;\n",
       "    }\n",
       "</style>\n",
       "<table border=\"1\" class=\"dataframe\">\n",
       "  <thead>\n",
       "    <tr style=\"text-align: right;\">\n",
       "      <th></th>\n",
       "      <th>Year</th>\n",
       "      <th>TotalDue_sum</th>\n",
       "      <th>TotalDue_mean</th>\n",
       "    </tr>\n",
       "  </thead>\n",
       "  <tbody>\n",
       "    <tr>\n",
       "      <th>0</th>\n",
       "      <td>2011</td>\n",
       "      <td>$14,155,699.52</td>\n",
       "      <td>$8,808.77</td>\n",
       "    </tr>\n",
       "    <tr>\n",
       "      <th>1</th>\n",
       "      <td>2012</td>\n",
       "      <td>$37,675,700.31</td>\n",
       "      <td>$9,623.42</td>\n",
       "    </tr>\n",
       "    <tr>\n",
       "      <th>2</th>\n",
       "      <td>2013</td>\n",
       "      <td>$48,965,887.96</td>\n",
       "      <td>$3,452.68</td>\n",
       "    </tr>\n",
       "    <tr>\n",
       "      <th>3</th>\n",
       "      <td>2014</td>\n",
       "      <td>$22,419,498.32</td>\n",
       "      <td>$1,906.26</td>\n",
       "    </tr>\n",
       "  </tbody>\n",
       "</table>\n",
       "</div>"
      ],
      "text/plain": [
       "   Year   TotalDue_sum  TotalDue_mean\n",
       "0  2011 $14,155,699.52      $8,808.77\n",
       "1  2012 $37,675,700.31      $9,623.42\n",
       "2  2013 $48,965,887.96      $3,452.68\n",
       "3  2014 $22,419,498.32      $1,906.26"
      ]
     },
     "execution_count": 8,
     "metadata": {},
     "output_type": "execute_result"
    }
   ],
   "source": [
    "summary_yearly = summary_yearly.reset_index()\n",
    "summary_yearly"
   ]
  },
  {
   "cell_type": "code",
   "execution_count": 9,
   "metadata": {},
   "outputs": [
    {
     "data": {
      "text/plain": [
       "Text(0, 0.5, 'in millions')"
      ]
     },
     "execution_count": 9,
     "metadata": {},
     "output_type": "execute_result"
    },
    {
     "data": {
      "image/png": "[encoded data removed]",
      "text/plain": [
       "<Figure size 720x576 with 1 Axes>"
      ]
     },
     "metadata": {
      "needs_background": "light"
     },
     "output_type": "display_data"
    }
   ],
   "source": [
    "plt.figure (figsize = (10, 8))\n",
    "\n",
    "plt.plot('Year', 'TotalDue_sum', data=summary_yearly, marker='o', markerfacecolor='blue', markersize=12, color='skyblue', linewidth=4)\n",
    "plt.legend()\n",
    "plt.title('TotalDue sum by year')\n",
    "plt.ylabel('in millions')\n"
   ]
  },
  {
   "cell_type": "code",
   "execution_count": 10,
   "metadata": {},
   "outputs": [
    {
     "data": {
      "text/plain": [
       "Text(0.5, 1.0, 'TotalDue mean by year')"
      ]
     },
     "execution_count": 10,
     "metadata": {},
     "output_type": "execute_result"
    },
    {
     "data": {
      "image/png": "[encoded data removed]",
      "text/plain": [
       "<Figure size 720x576 with 1 Axes>"
      ]
     },
     "metadata": {
      "needs_background": "light"
     },
     "output_type": "display_data"
    }
   ],
   "source": [
    "plt.figure (figsize = (10, 8))\n",
    "\n",
    "plt.plot('Year', 'TotalDue_mean', data=summary_yearly, marker='o', markerfacecolor='olive', markersize=12, color='olive', linewidth=4)\n",
    "plt.legend()\n",
    "plt.title('TotalDue mean by year')"
   ]
  },
  {
   "cell_type": "code",
   "execution_count": 11,
   "metadata": {},
   "outputs": [
    {
     "data": {
      "text/html": [
       "<div>\n",
       "<style scoped>\n",
       "    .dataframe tbody tr th:only-of-type {\n",
       "        vertical-align: middle;\n",
       "    }\n",
       "\n",
       "    .dataframe tbody tr th {\n",
       "        vertical-align: top;\n",
       "    }\n",
       "\n",
       "    .dataframe thead th {\n",
       "        text-align: right;\n",
       "    }\n",
       "</style>\n",
       "<table border=\"1\" class=\"dataframe\">\n",
       "  <thead>\n",
       "    <tr style=\"text-align: right;\">\n",
       "      <th></th>\n",
       "      <th>Country</th>\n",
       "      <th>TotalDue</th>\n",
       "    </tr>\n",
       "  </thead>\n",
       "  <tbody>\n",
       "    <tr>\n",
       "      <th>0</th>\n",
       "      <td>Australia</td>\n",
       "      <td>$11,814,376.10</td>\n",
       "    </tr>\n",
       "    <tr>\n",
       "      <th>1</th>\n",
       "      <td>Canada</td>\n",
       "      <td>$18,398,929.19</td>\n",
       "    </tr>\n",
       "    <tr>\n",
       "      <th>2</th>\n",
       "      <td>France</td>\n",
       "      <td>$8,119,749.35</td>\n",
       "    </tr>\n",
       "    <tr>\n",
       "      <th>3</th>\n",
       "      <td>Germany</td>\n",
       "      <td>$5,479,819.58</td>\n",
       "    </tr>\n",
       "    <tr>\n",
       "      <th>4</th>\n",
       "      <td>United Kingdom</td>\n",
       "      <td>$8,574,048.71</td>\n",
       "    </tr>\n",
       "    <tr>\n",
       "      <th>5</th>\n",
       "      <td>United States</td>\n",
       "      <td>$70,829,863.20</td>\n",
       "    </tr>\n",
       "  </tbody>\n",
       "</table>\n",
       "</div>"
      ],
      "text/plain": [
       "          Country       TotalDue\n",
       "0       Australia $11,814,376.10\n",
       "1          Canada $18,398,929.19\n",
       "2          France  $8,119,749.35\n",
       "3         Germany  $5,479,819.58\n",
       "4  United Kingdom  $8,574,048.71\n",
       "5   United States $70,829,863.20"
      ]
     },
     "execution_count": 11,
     "metadata": {},
     "output_type": "execute_result"
    }
   ],
   "source": [
    "country_sum = df.filter([ 'Country', 'TotalDue']).groupby('Country').sum()\n",
    "country_sum = country_sum.reset_index()\n",
    "country_sum\n"
   ]
  },
  {
   "cell_type": "code",
   "execution_count": 13,
   "metadata": {},
   "outputs": [
    {
     "data": {
      "text/plain": [
       "Text(0, 0.5, 'in millions')"
      ]
     },
     "execution_count": 13,
     "metadata": {},
     "output_type": "execute_result"
    },
    {
     "data": {
      "image/png": "[encoded data removed]",
      "text/plain": [
       "<Figure size 720x576 with 1 Axes>"
      ]
     },
     "metadata": {
      "needs_background": "light"
     },
     "output_type": "display_data"
    }
   ],
   "source": [
    "plt.figure (figsize = (10, 8))\n",
    "plt.plot('Country','TotalDue', data=country_sum, marker='.', markerfacecolor='blue', markersize=12, color='skyblue', linewidth=4)\n",
    "plt.legend()\n",
    "plt.title('TotalDue by Country')\n",
    "plt.ylabel('in millions')\n"
   ]
  },
  {
   "cell_type": "code",
   "execution_count": 21,
   "metadata": {},
   "outputs": [
    {
     "data": {
      "text/html": [
       "<div>\n",
       "<style scoped>\n",
       "    .dataframe tbody tr th:only-of-type {\n",
       "        vertical-align: middle;\n",
       "    }\n",
       "\n",
       "    .dataframe tbody tr th {\n",
       "        vertical-align: top;\n",
       "    }\n",
       "\n",
       "    .dataframe thead th {\n",
       "        text-align: right;\n",
       "    }\n",
       "</style>\n",
       "<table border=\"1\" class=\"dataframe\">\n",
       "  <thead>\n",
       "    <tr style=\"text-align: right;\">\n",
       "      <th></th>\n",
       "      <th>StoreName</th>\n",
       "      <th>SubTotal</th>\n",
       "      <th>TaxAmt</th>\n",
       "      <th>Freight</th>\n",
       "      <th>TotalDue</th>\n",
       "    </tr>\n",
       "  </thead>\n",
       "  <tbody>\n",
       "    <tr>\n",
       "      <th>57</th>\n",
       "      <td>Brakes and Gears</td>\n",
       "      <td>$877,107.19</td>\n",
       "      <td>$85,391.92</td>\n",
       "      <td>$26,684.97</td>\n",
       "      <td>$989,184.08</td>\n",
       "    </tr>\n",
       "    <tr>\n",
       "      <th>139</th>\n",
       "      <td>Excellent Riding Supplies</td>\n",
       "      <td>$853,849.18</td>\n",
       "      <td>$82,153.66</td>\n",
       "      <td>$25,673.02</td>\n",
       "      <td>$961,675.86</td>\n",
       "    </tr>\n",
       "    <tr>\n",
       "      <th>604</th>\n",
       "      <td>Vigorous Exercise Company</td>\n",
       "      <td>$841,908.77</td>\n",
       "      <td>$85,419.55</td>\n",
       "      <td>$26,693.61</td>\n",
       "      <td>$954,021.92</td>\n",
       "    </tr>\n",
       "    <tr>\n",
       "      <th>562</th>\n",
       "      <td>Totes &amp; Baskets Company</td>\n",
       "      <td>$816,755.58</td>\n",
       "      <td>$78,511.42</td>\n",
       "      <td>$24,534.82</td>\n",
       "      <td>$919,801.82</td>\n",
       "    </tr>\n",
       "    <tr>\n",
       "      <th>445</th>\n",
       "      <td>Retail Mall</td>\n",
       "      <td>$799,277.90</td>\n",
       "      <td>$77,766.83</td>\n",
       "      <td>$24,302.13</td>\n",
       "      <td>$901,346.86</td>\n",
       "    </tr>\n",
       "    <tr>\n",
       "      <th>94</th>\n",
       "      <td>Corner Bicycle Supply</td>\n",
       "      <td>$787,773.04</td>\n",
       "      <td>$75,670.37</td>\n",
       "      <td>$23,646.99</td>\n",
       "      <td>$887,090.41</td>\n",
       "    </tr>\n",
       "    <tr>\n",
       "      <th>370</th>\n",
       "      <td>Outdoor Equipment Store</td>\n",
       "      <td>$746,317.53</td>\n",
       "      <td>$72,799.26</td>\n",
       "      <td>$22,749.77</td>\n",
       "      <td>$841,866.55</td>\n",
       "    </tr>\n",
       "    <tr>\n",
       "      <th>553</th>\n",
       "      <td>Thorough Parts and Repair Services</td>\n",
       "      <td>$740,985.83</td>\n",
       "      <td>$71,230.55</td>\n",
       "      <td>$22,259.55</td>\n",
       "      <td>$834,475.93</td>\n",
       "    </tr>\n",
       "    <tr>\n",
       "      <th>250</th>\n",
       "      <td>Health Spa, Limited</td>\n",
       "      <td>$730,798.71</td>\n",
       "      <td>$71,263.28</td>\n",
       "      <td>$22,269.77</td>\n",
       "      <td>$824,331.77</td>\n",
       "    </tr>\n",
       "    <tr>\n",
       "      <th>197</th>\n",
       "      <td>Fitness Toy Store</td>\n",
       "      <td>$727,272.65</td>\n",
       "      <td>$70,941.64</td>\n",
       "      <td>$22,169.26</td>\n",
       "      <td>$820,383.55</td>\n",
       "    </tr>\n",
       "    <tr>\n",
       "      <th>280</th>\n",
       "      <td>Latest Sports Equipment</td>\n",
       "      <td>$724,299.64</td>\n",
       "      <td>$69,801.61</td>\n",
       "      <td>$21,813.00</td>\n",
       "      <td>$815,914.25</td>\n",
       "    </tr>\n",
       "    <tr>\n",
       "      <th>184</th>\n",
       "      <td>First Bike Store</td>\n",
       "      <td>$711,864.76</td>\n",
       "      <td>$68,496.34</td>\n",
       "      <td>$21,405.11</td>\n",
       "      <td>$801,766.21</td>\n",
       "    </tr>\n",
       "    <tr>\n",
       "      <th>244</th>\n",
       "      <td>Great Bikes</td>\n",
       "      <td>$700,803.79</td>\n",
       "      <td>$67,870.86</td>\n",
       "      <td>$21,209.64</td>\n",
       "      <td>$789,884.29</td>\n",
       "    </tr>\n",
       "    <tr>\n",
       "      <th>166</th>\n",
       "      <td>Farthermost Bike Shop</td>\n",
       "      <td>$693,502.49</td>\n",
       "      <td>$66,720.94</td>\n",
       "      <td>$20,850.29</td>\n",
       "      <td>$781,073.72</td>\n",
       "    </tr>\n",
       "    <tr>\n",
       "      <th>175</th>\n",
       "      <td>Field Trip Store</td>\n",
       "      <td>$671,618.03</td>\n",
       "      <td>$65,395.54</td>\n",
       "      <td>$20,436.11</td>\n",
       "      <td>$757,449.68</td>\n",
       "    </tr>\n",
       "  </tbody>\n",
       "</table>\n",
       "</div>"
      ],
      "text/plain": [
       "                              StoreName    SubTotal     TaxAmt    Freight  \\\n",
       "57                     Brakes and Gears $877,107.19 $85,391.92 $26,684.97   \n",
       "139           Excellent Riding Supplies $853,849.18 $82,153.66 $25,673.02   \n",
       "604           Vigorous Exercise Company $841,908.77 $85,419.55 $26,693.61   \n",
       "562             Totes & Baskets Company $816,755.58 $78,511.42 $24,534.82   \n",
       "445                         Retail Mall $799,277.90 $77,766.83 $24,302.13   \n",
       "94                Corner Bicycle Supply $787,773.04 $75,670.37 $23,646.99   \n",
       "370             Outdoor Equipment Store $746,317.53 $72,799.26 $22,749.77   \n",
       "553  Thorough Parts and Repair Services $740,985.83 $71,230.55 $22,259.55   \n",
       "250                 Health Spa, Limited $730,798.71 $71,263.28 $22,269.77   \n",
       "197                   Fitness Toy Store $727,272.65 $70,941.64 $22,169.26   \n",
       "280             Latest Sports Equipment $724,299.64 $69,801.61 $21,813.00   \n",
       "184                    First Bike Store $711,864.76 $68,496.34 $21,405.11   \n",
       "244                        Great Bikes  $700,803.79 $67,870.86 $21,209.64   \n",
       "166               Farthermost Bike Shop $693,502.49 $66,720.94 $20,850.29   \n",
       "175                    Field Trip Store $671,618.03 $65,395.54 $20,436.11   \n",
       "\n",
       "       TotalDue  \n",
       "57  $989,184.08  \n",
       "139 $961,675.86  \n",
       "604 $954,021.92  \n",
       "562 $919,801.82  \n",
       "445 $901,346.86  \n",
       "94  $887,090.41  \n",
       "370 $841,866.55  \n",
       "553 $834,475.93  \n",
       "250 $824,331.77  \n",
       "197 $820,383.55  \n",
       "280 $815,914.25  \n",
       "184 $801,766.21  \n",
       "244 $789,884.29  \n",
       "166 $781,073.72  \n",
       "175 $757,449.68  "
      ]
     },
     "execution_count": 21,
     "metadata": {},
     "output_type": "execute_result"
    }
   ],
   "source": [
    "Stores = df[df['PersonType'] == 'SC']\n",
    "Stores = Stores.filter(['StoreName','SubTotal', 'TaxAmt', 'Freight', 'TotalDue']).groupby('StoreName').sum()\n",
    "Stores = Stores.reset_index()\n",
    "# Sort by the biggest\n",
    "Stores = Stores.sort_values(by = 'TotalDue', ascending = False)\n",
    "Stores = Stores.head(15)\n",
    "Stores"
   ]
  },
  {
   "cell_type": "code",
   "execution_count": 26,
   "metadata": {},
   "outputs": [
    {
     "data": {
      "text/plain": [
       "<matplotlib.legend.Legend at 0x19c25db0b88>"
      ]
     },
     "execution_count": 26,
     "metadata": {},
     "output_type": "execute_result"
    },
    {
     "data": {
      "image/png": "[encoded data removed]",
      "text/plain": [
       "<Figure size 1080x576 with 1 Axes>"
      ]
     },
     "metadata": {
      "needs_background": "light"
     },
     "output_type": "display_data"
    }
   ],
   "source": [
    "Stores.plot.barh (x = 'StoreName', y = 'TotalDue', figsize = (15, 8), rot = 15, color = 'khaki')\n",
    "plt.title('Sales by the biggest Stores')\n",
    "plt.legend()"
   ]
  }
 ],
 "metadata": {
  "kernelspec": {
   "display_name": "Python 3",
   "language": "python",
   "name": "python3"
  },
  "language_info": {
   "codemirror_mode": {
    "name": "ipython",
    "version": 3
   },
   "file_extension": ".py",
   "mimetype": "text/x-python",
   "name": "python",
   "nbconvert_exporter": "python",
   "pygments_lexer": "ipython3",
   "version": "3.7.6"
  }
 },
 "nbformat": 4,
 "nbformat_minor": 4
}
